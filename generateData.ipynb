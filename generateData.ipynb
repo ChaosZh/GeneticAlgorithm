{
 "cells": [
  {
   "cell_type": "code",
   "execution_count": 19,
   "metadata": {},
   "outputs": [],
   "source": [
    "#-*- coding:utf-8 -*-\n",
    "import numpy as np\n",
    "import pandas as pd\n",
    "import os\n",
    "import sys\n",
    "import datetime\n",
    "from random import random as rd"
   ]
  },
  {
   "cell_type": "code",
   "execution_count": 20,
   "metadata": {},
   "outputs": [
    {
     "name": "stdout",
     "output_type": "stream",
     "text": [
      "输入需要生成的数据的数量：150000\n"
     ]
    }
   ],
   "source": [
    "#需要生成的数据的数量\n",
    "dataAmount=int(input(\"输入需要生成的数据的数量：\"))\n",
    "\n",
    "#动车基本信息\n",
    "dfbasic=pd.read_excel(\"data/basicMessage.xlsx\")\n",
    "\n",
    "##取数据示例 dfBasic['a'][0]==第一辆车在a车间中的检修时间\n",
    "\n",
    "#车间数量\n",
    "a=3\n",
    "b=8\n",
    "c=5\n",
    "d=3\n",
    "e=2\n",
    "boxnum=a+b+c+d+e\n",
    "#列车数量\n",
    "carnum=dfbasic.shape[0]#shape[0] 行 shape[1] 列\n",
    "#作业数量\n",
    "count=0\n",
    "for index,row in dfbasic.iterrows():\n",
    "    for i in row:\n",
    "        if i!=0:\n",
    "            count+=1"
   ]
  },
  {
   "cell_type": "code",
   "execution_count": null,
   "metadata": {},
   "outputs": [],
   "source": [
    "#生成多个顺序选择矩阵\n",
    "\n",
    "##初始顺序表集\n",
    "sequence=None\n",
    "\n",
    "for time in range(dataAmount):\n",
    "    \n",
    "    #对车间进行选择\n",
    "    choose=pd.DataFrame(np.zeros([carnum,boxnum],dtype=bool))\n",
    "    for i in range(carnum):\n",
    "        if dfbasic['a'][i]!=0:\n",
    "            choose[int(a*rd())][i]=True;\n",
    "        if dfbasic['b'][i]!=0:\n",
    "            choose[int(b*rd()+a)][i]=True;\n",
    "        if dfbasic['c'][i]!=0:\n",
    "            choose[int(c*rd()+b+a)][i]=True;\n",
    "        if dfbasic['d'][i]!=0:\n",
    "            choose[int(d*rd()+c+b+a)][i]=True;\n",
    "        if dfbasic['e'][i]!=0:\n",
    "            choose[int(e*rd()+d+c+b+a)][i]=True;\n",
    "    \n",
    "    #生成随机顺序\n",
    "    array=[]\n",
    "    for i in range(count):\n",
    "        pos=int((len(array)+1)*rd())\n",
    "        array.insert(pos,i+1)\n",
    "\n",
    "    #生成顺序表\n",
    "    sequenceTable=pd.DataFrame(np.zeros([carnum,boxnum],dtype=int))\n",
    "\n",
    "    n=0\n",
    "    for i in range(boxnum):\n",
    "        for j in range(carnum):\n",
    "            if choose[i][j]==True:\n",
    "                sequenceTable[i][j]=array[n]\n",
    "                n+=1\n",
    "    \n",
    "    #加入顺序表集\n",
    "    sequence = pd.concat([sequence,sequenceTable],axis=0,ignore_index=True)"
   ]
  },
  {
   "cell_type": "code",
   "execution_count": null,
   "metadata": {},
   "outputs": [],
   "source": [
    "#导出到excel\n",
    "basedir=os.getcwd()\n",
    "time=datetime.datetime.now().strftime('%Y%m%d-%H%M%S')\n",
    "filedir=basedir+\"\\\\data\\\\out\\\\\"+time+\"generatetable.csv\"\n",
    "\n",
    "sequence.to_csv(filedir)\n",
    "# writer=pd.ExcelWriter(filedir)\n",
    "# sequence.to_excel(writer)\n",
    "# writer.save()"
   ]
  },
  {
   "cell_type": "code",
   "execution_count": null,
   "metadata": {},
   "outputs": [],
   "source": []
  }
 ],
 "metadata": {
  "kernelspec": {
   "display_name": "Python [conda env:caocao] *",
   "language": "python",
   "name": "conda-env-caocao-py"
  },
  "language_info": {
   "codemirror_mode": {
    "name": "ipython",
    "version": 3
   },
   "file_extension": ".py",
   "mimetype": "text/x-python",
   "name": "python",
   "nbconvert_exporter": "python",
   "pygments_lexer": "ipython3",
   "version": "3.6.8"
  }
 },
 "nbformat": 4,
 "nbformat_minor": 2
}
