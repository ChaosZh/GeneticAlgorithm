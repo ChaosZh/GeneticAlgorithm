{
 "cells": [
  {
   "cell_type": "code",
   "execution_count": 72,
   "metadata": {},
   "outputs": [],
   "source": [
    "#!/usr/bin/env python\n",
    "# coding: utf-8\n",
    "from IPython.core.interactiveshell import InteractiveShell\n",
    "InteractiveShell.ast_node_interactivity = \"all\" "
   ]
  },
  {
   "cell_type": "code",
   "execution_count": 73,
   "metadata": {},
   "outputs": [],
   "source": [
    "import numpy as np\n",
    "import pandas as pd\n",
    "import os\n",
    "import sys\n",
    "import datetime\n",
    "from random import random as rd"
   ]
  },
  {
   "cell_type": "code",
   "execution_count": 86,
   "metadata": {},
   "outputs": [],
   "source": [
    "def mutateData(filepath, indexlist, carnum=7,a=3,b=8,c=5,d=3,e=2):#path,list,7\n",
    "    #boxNum-车间数\n",
    "    boxNum=5\n",
    "    #读取原表格，配合indexlist\n",
    "    df=pd.read_csv(filepath)\n",
    "    #变异的表集叫resultTable\n",
    "    resultTable=None\n",
    "    #删除第一列的索引\n",
    "    chooseC=list(df.columns)\n",
    "    type(chooseC)\n",
    "    del chooseC[0]\n",
    "    df=df[chooseC]\n",
    "    \n",
    "    #把顺序表集划分为表，根据indexlist遍历\n",
    "    colnum=df.shape[1]\n",
    "    rownum=df.shape[0]\n",
    "    length=len(indexlist)\n",
    "    \n",
    "    #变异2-两个表的交叉变异\n",
    "    while length>0:\n",
    "        #table1 table2\n",
    "        tablei1=int(length*rd())\n",
    "        table1=indexlist[tablei1]\n",
    "        del indexlist[tablei1]\n",
    "        tablei2=int((length-1)*rd())\n",
    "        table2=indexlist[tablei2]\n",
    "        del indexlist[tablei2]\n",
    "        #length-2\n",
    "        length-=2\n",
    "        \n",
    "        table1=carnum*table1\n",
    "        table2=carnum*table2\n",
    "        table1=df[table1:table1+7]\n",
    "        table2=df[table2:table2+7]\n",
    "        \n",
    "        #原表加入选集\n",
    "        resultTable=pd.concat([resultTable,table1],axis=0,ignore_index=True)\n",
    "        resultTable=pd.concat([resultTable,table2],axis=0,ignore_index=True)\n",
    "        \n",
    "        #选择交叉的车间\n",
    "        exchangeIndex=int(boxNum*rd())\n",
    "        temp=[0,a,a+b,a+b+c,a+b+c+d,a+b+c+d+e]\n",
    "        start=temp[exchangeIndex]\n",
    "        end=temp[exchangeIndex+1]\n",
    "        chooseColumn=[]\n",
    "        for i in range(end-start):\n",
    "            start\n",
    "            chooseColumn.append(str(start+i))\n",
    "        \n",
    "        #交叉\n",
    "        temptable=table1.copy(deep=True)\n",
    "        copy=table2.loc[:,chooseColumn].copy(deep=True)\n",
    "        copy=np.array(copy).tolist()\n",
    "        temptable.loc[:,chooseColumn]=copy\n",
    "        #加入列表\n",
    "        resultTable=pd.concat([resultTable,temptable],axis=0,ignore_index=True)\n",
    "        \n",
    "    #导出到excel\n",
    "    basedir=os.getcwd()\n",
    "    time=datetime.datetime.now().strftime('%Y%m%d-%H%M%S')\n",
    "    filedir=basedir+\"\\\\data\\\\out\\\\\"+time+\"mutatetable.csv\"\n",
    "\n",
    "    resultTable.to_csv(filedir)"
   ]
  },
  {
   "cell_type": "code",
   "execution_count": 87,
   "metadata": {
    "scrolled": true
   },
   "outputs": [],
   "source": [
    "##试运行\n",
    "\n",
    "filepath=\"C:/Users/14994/Desktop/代码/遗传算法/data/out/50.csv\"\n",
    "indexlist=[1,2,5,6]\n",
    "mutateData(filepath, indexlist, carnum=7,a=3,b=8,c=5,d=3,e=2)#path,list,7"
   ]
  },
  {
   "cell_type": "code",
   "execution_count": null,
   "metadata": {},
   "outputs": [],
   "source": [
    "#变异1-单个表的变异\n",
    "#     for i in range(time):\n",
    "#         #取表至basetable\n",
    "#         target=indexlist[i]\n",
    "#         tablestart=target*7\n",
    "#         tableend=(target+1)*7\n",
    "#         basetable=df[tablestart:tableend]\n",
    "#         newtables.append(basetable)\n",
    "#         \n",
    "#         #仅在单个表的某一col上交换位置\n",
    "#         for coli in range(colnum):\n",
    "#             #待变异表newtable\n",
    "#             newtable=basetable.copy(deep=True)\n",
    "#             coltarget=list(newtable[coli])\n",
    "\n",
    "#             root=[]\n",
    "#             reroot=[]\n",
    "#             for rowi in range(carnum):\n",
    "#                 if coltarget[rowi]!=0:\n",
    "#                     root.append(coltarget[rowi])\n",
    "#                     #随机摇序号\n",
    "#                     pos=int((len(reroot)+1)*rd())\n",
    "#                     reroot.insert(pos,coltarget[rowi])\n",
    "\n",
    "#             #顺序一样说明不变异\n",
    "#             if root==reroot:\n",
    "#                 continue\n",
    "\n",
    "#             #新顺序替换旧顺序（变异）\n",
    "#             for rowi in range(carnum):\n",
    "#                 if coltarget[rowi]!=0:\n",
    "#                     newtable.loc[tablestart+rowi:tablestart+rowi,coli]=reroot[0]\n",
    "#                     del reroot[0]"
   ]
  }
 ],
 "metadata": {
  "kernelspec": {
   "display_name": "Python [conda env:caocao] *",
   "language": "python",
   "name": "conda-env-caocao-py"
  },
  "language_info": {
   "codemirror_mode": {
    "name": "ipython",
    "version": 3
   },
   "file_extension": ".py",
   "mimetype": "text/x-python",
   "name": "python",
   "nbconvert_exporter": "python",
   "pygments_lexer": "ipython3",
   "version": "3.6.8"
  }
 },
 "nbformat": 4,
 "nbformat_minor": 2
}
